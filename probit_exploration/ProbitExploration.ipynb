{
 "cells": [
  {
   "cell_type": "code",
   "execution_count": 1,
   "id": "5b2aa7ca-5b0c-4135-ac30-9a57db17d7b1",
   "metadata": {},
   "outputs": [
    {
     "name": "stdout",
     "output_type": "stream",
     "text": [
      "Optimization terminated successfully.\n",
      "         Current function value: 0.896869\n",
      "         Iterations: 17\n",
      "         Function evaluations: 21\n",
      "         Gradient evaluations: 21\n"
     ]
    }
   ],
   "source": [
    "import numpy as np\n",
    "import pandas as pd\n",
    "import scipy.stats as stats\n",
    "\n",
    "from statsmodels.miscmodels.ordinal_model import OrderedModel\n",
    "\n",
    "url = \"https://stats.idre.ucla.edu/stat/data/ologit.dta\"\n",
    "data_student = pd.read_stata(url)\n",
    "\n",
    "mod_prob = OrderedModel(data_student['apply'],\n",
    "                        data_student[['pared', 'public', 'gpa']],\n",
    "                        distr='probit')\n",
    "\n",
    "res_prob = mod_prob.fit(method='bfgs')\n"
   ]
  },
  {
   "cell_type": "code",
   "execution_count": 2,
   "id": "8115dd31-7997-42c7-b433-f3dcc2198ab8",
   "metadata": {},
   "outputs": [
    {
     "data": {
      "text/html": [
       "<div>\n",
       "<style scoped>\n",
       "    .dataframe tbody tr th:only-of-type {\n",
       "        vertical-align: middle;\n",
       "    }\n",
       "\n",
       "    .dataframe tbody tr th {\n",
       "        vertical-align: top;\n",
       "    }\n",
       "\n",
       "    .dataframe thead th {\n",
       "        text-align: right;\n",
       "    }\n",
       "</style>\n",
       "<table border=\"1\" class=\"dataframe\">\n",
       "  <thead>\n",
       "    <tr style=\"text-align: right;\">\n",
       "      <th></th>\n",
       "      <th>0</th>\n",
       "      <th>1</th>\n",
       "      <th>2</th>\n",
       "    </tr>\n",
       "  </thead>\n",
       "  <tbody>\n",
       "    <tr>\n",
       "      <th>0</th>\n",
       "      <td>0.551417</td>\n",
       "      <td>0.357687</td>\n",
       "      <td>0.090896</td>\n",
       "    </tr>\n",
       "    <tr>\n",
       "      <th>1</th>\n",
       "      <td>0.326009</td>\n",
       "      <td>0.448882</td>\n",
       "      <td>0.225109</td>\n",
       "    </tr>\n",
       "    <tr>\n",
       "      <th>2</th>\n",
       "      <td>0.234969</td>\n",
       "      <td>0.450637</td>\n",
       "      <td>0.314394</td>\n",
       "    </tr>\n",
       "    <tr>\n",
       "      <th>3</th>\n",
       "      <td>0.614250</td>\n",
       "      <td>0.318479</td>\n",
       "      <td>0.067271</td>\n",
       "    </tr>\n",
       "    <tr>\n",
       "      <th>4</th>\n",
       "      <td>0.651990</td>\n",
       "      <td>0.292845</td>\n",
       "      <td>0.055165</td>\n",
       "    </tr>\n",
       "    <tr>\n",
       "      <th>...</th>\n",
       "      <td>...</td>\n",
       "      <td>...</td>\n",
       "      <td>...</td>\n",
       "    </tr>\n",
       "    <tr>\n",
       "      <th>395</th>\n",
       "      <td>0.488692</td>\n",
       "      <td>0.391843</td>\n",
       "      <td>0.119465</td>\n",
       "    </tr>\n",
       "    <tr>\n",
       "      <th>396</th>\n",
       "      <td>0.638661</td>\n",
       "      <td>0.302065</td>\n",
       "      <td>0.059274</td>\n",
       "    </tr>\n",
       "    <tr>\n",
       "      <th>397</th>\n",
       "      <td>0.688281</td>\n",
       "      <td>0.266870</td>\n",
       "      <td>0.044849</td>\n",
       "    </tr>\n",
       "    <tr>\n",
       "      <th>398</th>\n",
       "      <td>0.551417</td>\n",
       "      <td>0.357687</td>\n",
       "      <td>0.090896</td>\n",
       "    </tr>\n",
       "    <tr>\n",
       "      <th>399</th>\n",
       "      <td>0.514406</td>\n",
       "      <td>0.378500</td>\n",
       "      <td>0.107094</td>\n",
       "    </tr>\n",
       "  </tbody>\n",
       "</table>\n",
       "<p>400 rows × 3 columns</p>\n",
       "</div>"
      ],
      "text/plain": [
       "            0         1         2\n",
       "0    0.551417  0.357687  0.090896\n",
       "1    0.326009  0.448882  0.225109\n",
       "2    0.234969  0.450637  0.314394\n",
       "3    0.614250  0.318479  0.067271\n",
       "4    0.651990  0.292845  0.055165\n",
       "..        ...       ...       ...\n",
       "395  0.488692  0.391843  0.119465\n",
       "396  0.638661  0.302065  0.059274\n",
       "397  0.688281  0.266870  0.044849\n",
       "398  0.551417  0.357687  0.090896\n",
       "399  0.514406  0.378500  0.107094\n",
       "\n",
       "[400 rows x 3 columns]"
      ]
     },
     "execution_count": 2,
     "metadata": {},
     "output_type": "execute_result"
    }
   ],
   "source": [
    "# Predict the probabilities for each observation in the data\n",
    "predicted_probs = res_prob.predict(exog=data_student[['pared', 'public', 'gpa']], which='prob')\n",
    "\n",
    "# Display the predicted probabilities\n",
    "predicted_probs"
   ]
  },
  {
   "cell_type": "markdown",
   "id": "56df56a3-bb6a-4716-a371-0867fb79fcc4",
   "metadata": {},
   "source": [
    "# Plot posterior probabilities as function of product sum"
   ]
  },
  {
   "cell_type": "code",
   "execution_count": 9,
   "id": "3a1e8f32-db90-4e99-a686-3ab055b59f84",
   "metadata": {},
   "outputs": [
    {
     "data": {
      "image/png": "[encoded data removed]",
      "text/plain": [
       "<Figure size 640x480 with 1 Axes>"
      ]
     },
     "metadata": {},
     "output_type": "display_data"
    }
   ],
   "source": [
    "import numpy as np\n",
    "import matplotlib.pyplot as plt\n",
    "\n",
    "thresh = mod_prob.transform_threshold_params(res_prob.params)\n",
    "product_sum = np.arange(-10, 10, .1)\n",
    "xb = product_sum[:, None]\n",
    "low = thresh[:-1] - xb\n",
    "upp = thresh[1:] - xb\n",
    "posteriors = mod_prob.prob(low, upp)\n",
    "\n",
    "plt.plot(product_sum, posteriors[:, 0], label='0')\n",
    "plt.plot(product_sum, posteriors[:, 1], label='1')\n",
    "plt.plot(product_sum, posteriors[:, 2], label='2')\n",
    "plt.xlabel('Product sum')\n",
    "plt.ylabel('Probability')\n",
    "plt.legend()\n",
    "plt.show()"
   ]
  }
 ],
 "metadata": {
  "kernelspec": {
   "display_name": "Python (myenv)",
   "language": "python",
   "name": "myenv"
  },
  "language_info": {
   "codemirror_mode": {
    "name": "ipython",
    "version": 3
   },
   "file_extension": ".py",
   "mimetype": "text/x-python",
   "name": "python",
   "nbconvert_exporter": "python",
   "pygments_lexer": "ipython3",
   "version": "3.12.3"
  }
 },
 "nbformat": 4,
 "nbformat_minor": 5
}
